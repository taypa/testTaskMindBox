{
  "nbformat": 4,
  "nbformat_minor": 0,
  "metadata": {
    "colab": {
      "provenance": [],
      "authorship_tag": "ABX9TyOmLanzxzIP8shQprYtgm9B",
      "include_colab_link": true
    },
    "kernelspec": {
      "name": "python3",
      "display_name": "Python 3"
    },
    "language_info": {
      "name": "python"
    }
  },
  "cells": [
    {
      "cell_type": "markdown",
      "metadata": {
        "id": "view-in-github",
        "colab_type": "text"
      },
      "source": [
        "<a href=\"https://colab.research.google.com/github/taypa/testTaskMindBox/blob/main/test_task_3.ipynb\" target=\"_parent\"><img src=\"https://colab.research.google.com/assets/colab-badge.svg\" alt=\"Open In Colab\"/></a>"
      ]
    },
    {
      "cell_type": "code",
      "execution_count": 1,
      "metadata": {
        "colab": {
          "base_uri": "https://localhost:8080/"
        },
        "id": "SWzPDcKRXZLT",
        "outputId": "920df72e-ea11-4506-f1ad-12caf4e8ad5a"
      },
      "outputs": [
        {
          "output_type": "stream",
          "name": "stdout",
          "text": [
            "Collecting pyspark==3.0.1\n",
            "  Downloading pyspark-3.0.1.tar.gz (204.2 MB)\n",
            "\u001b[2K     \u001b[90m━━━━━━━━━━━━━━━━━━━━━━━━━━━━━━━━━━━━━━━━\u001b[0m \u001b[32m204.2/204.2 MB\u001b[0m \u001b[31m2.9 MB/s\u001b[0m eta \u001b[36m0:00:00\u001b[0m\n",
            "\u001b[?25h  Preparing metadata (setup.py) ... \u001b[?25l\u001b[?25hdone\n",
            "Collecting py4j==0.10.9\n",
            "  Downloading py4j-0.10.9-py2.py3-none-any.whl (198 kB)\n",
            "\u001b[2K     \u001b[90m━━━━━━━━━━━━━━━━━━━━━━━━━━━━━━━━━━━━━━━━\u001b[0m \u001b[32m198.6/198.6 kB\u001b[0m \u001b[31m14.4 MB/s\u001b[0m eta \u001b[36m0:00:00\u001b[0m\n",
            "\u001b[?25hBuilding wheels for collected packages: pyspark\n",
            "  Building wheel for pyspark (setup.py) ... \u001b[?25l\u001b[?25hdone\n",
            "  Created wheel for pyspark: filename=pyspark-3.0.1-py2.py3-none-any.whl size=204612223 sha256=3a908879aec2aaae441842354399af6df7badbda543b337805b9d414d77dd429\n",
            "  Stored in directory: /root/.cache/pip/wheels/19/b0/c8/6cb894117070e130fc44352c2a13f15b6c27e440d04a84fb48\n",
            "Successfully built pyspark\n",
            "Installing collected packages: py4j, pyspark\n",
            "  Attempting uninstall: py4j\n",
            "    Found existing installation: py4j 0.10.9.7\n",
            "    Uninstalling py4j-0.10.9.7:\n",
            "      Successfully uninstalled py4j-0.10.9.7\n",
            "Successfully installed py4j-0.10.9 pyspark-3.0.1\n"
          ]
        }
      ],
      "source": [
        "!pip install pyspark==3.0.1 py4j==0.10.9"
      ]
    },
    {
      "cell_type": "code",
      "source": [
        "from pyspark.sql import SparkSession\n",
        "\n",
        "spark = SparkSession.builder.getOrCreate()"
      ],
      "metadata": {
        "id": "dZQ-UYfmXai-"
      },
      "execution_count": 2,
      "outputs": []
    },
    {
      "cell_type": "code",
      "source": [
        "products = spark.createDataFrame([\n",
        "    (1, \"Product A\"),\n",
        "    (2, \"Product B\"),\n",
        "    (3, \"Product C\"),\n",
        "    (4, \"Product D\"),\n",
        "    (5, \"Product E\"),\n",
        "    (6, \"Product F\")\n",
        "], [\"id\", \"product_name\"])\n",
        "\n",
        "categories = spark.createDataFrame([\n",
        "    (1, \"Category 1\"),\n",
        "    (2, \"Category 2\"),\n",
        "    (3, \"Category 3\")\n",
        "], [\"id\", \"category_name\"])\n",
        "\n",
        "product_category = spark.createDataFrame([\n",
        "    (1, 1),\n",
        "    (1, 2),\n",
        "    (2, 1),\n",
        "    (3, 2),\n",
        "    (3, 3),\n",
        "    (4, 1)\n",
        "], [\"product_id\", \"category_id\"])"
      ],
      "metadata": {
        "id": "jAFejwD_Xu7q"
      },
      "execution_count": 6,
      "outputs": []
    },
    {
      "cell_type": "code",
      "source": [
        "from pyspark.sql.functions import col, when\n",
        "def get_pairs(products, categories, product_category):\n",
        "    #Соединяем датафреймы\n",
        "    join_table = products.join(product_category, products.id == product_category.product_id,\"left\")\n",
        "    join_table = join_table.join(categories, join_table.category_id == categories.id,\"left\")\n",
        "    #Заменяем null на пустые строки\n",
        "    join_table = join_table.withColumn(\"category_name\", when(col(\"category_id\").isNotNull(), col(\"category_name\")).otherwise(\"\"))\n",
        "    #Удаляем лишние столбцы\n",
        "    join_table = join_table.drop('id', 'product_id', 'category_id')\n",
        "    return join_table\n",
        "\n",
        "res = get_pairs(products, categories, product_category)\n",
        "res.show()\n"
      ],
      "metadata": {
        "colab": {
          "base_uri": "https://localhost:8080/"
        },
        "id": "FVdugLdkZpOf",
        "outputId": "98df7679-daf8-4b98-9114-fb2fe52219c0"
      },
      "execution_count": 25,
      "outputs": [
        {
          "output_type": "stream",
          "name": "stdout",
          "text": [
            "+------------+-------------+\n",
            "|product_name|category_name|\n",
            "+------------+-------------+\n",
            "|   Product F|             |\n",
            "|   Product E|             |\n",
            "|   Product A|   Category 1|\n",
            "|   Product B|   Category 1|\n",
            "|   Product D|   Category 1|\n",
            "|   Product C|   Category 3|\n",
            "|   Product A|   Category 2|\n",
            "|   Product C|   Category 2|\n",
            "+------------+-------------+\n",
            "\n"
          ]
        }
      ]
    }
  ]
}